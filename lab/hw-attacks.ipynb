{
 "cells": [
  {
   "cell_type": "markdown",
   "metadata": {},
   "source": [
    "# Homework - Attacks and Defenses in Federated Learning\n",
    "In this assignment, we will further explore the impact of various attacks and corresponding defenses within the context of federated learning. \n",
    "\n",
    "# Instructions\n",
    "\n",
    "Submit your assignment as a Jupyter notebook with all relevant execution outputs and plots visible. Clearly indicate the relevant steps in your code, such as data preprocessing, model definition, training, etc. Partial grades can be given for incomplete problems provided the steps are clearly indicated.\n",
    "\n",
    "## Question 1: Influence of Non-I.I.D. Data in Attacks and Defenses (4 points)\n",
    "\n",
    "Using the template code from [lab-attacks.ipynb](https://github.com/lydiaYchen/DDL24Spring/blob/main/lab/lab-attacks.ipynb), experiment with how non-i.i.d. data distributions influence the performance of attacks and defenses. Utilize the `AttackerGradientReversion` for the attack. Keep all hyperparameters the same as those in the template code, except modify the data distribution among the clients to be non-i.i.d.\n",
    "\n",
    "### Scoring:\n",
    "\n",
    "- _(1 point)_ Generate test accuracy for 10 rounds, both when there is no defense and when the defenses are `krum`, `multi_krum`, and `majority_sign`. \n",
    "- _(1 point)_ Compile the results of these runs into one plot to visually compare the influence of each defense mechanism under non-i.i.d. conditions.\n",
    "- _(2 points)_ Discuss the differences (if any) between the results in i.i.d. and non-i.i.d. settings for each defense mechanism. "
   ]
  },
  {
   "cell_type": "code",
   "execution_count": 1,
   "metadata": {},
   "outputs": [],
   "source": [
    "from base import *\n",
    "import pandas as pd\n",
    "import seaborn as sns\n",
    "\n",
    "sample_split_iid = split(100, True, 42)\n",
    "sample_split_non_iid = split(100, False, 42)"
   ]
  },
  {
   "cell_type": "markdown",
   "metadata": {},
   "source": [
    "### Define FedAvgGradServer"
   ]
  },
  {
   "cell_type": "code",
   "execution_count": 2,
   "metadata": {},
   "outputs": [],
   "source": [
    "class GradWeightClient(Client):\n",
    "    def __init__(\n",
    "        self, client_data: Subset, lr: float, batch_size: int, nr_epochs: int\n",
    "    ) -> None:\n",
    "        super().__init__(client_data, batch_size)\n",
    "        self.optimizer = SGD(params=self.model.parameters(), lr=lr)\n",
    "        self.nr_epochs = nr_epochs\n",
    "\n",
    "    def update(self, weights: list[torch.Tensor], seed: int) -> list[torch.Tensor]:\n",
    "        # Load the server weights into the model\n",
    "        with torch.no_grad():\n",
    "            for client_values, server_values in zip(self.model.parameters(), weights):\n",
    "                client_values[:] = server_values\n",
    "\n",
    "        self.generator.manual_seed(seed)\n",
    "\n",
    "        # Save initial weights to calculate the gradients later\n",
    "        initial_weights = [param.clone() for param in self.model.parameters()]\n",
    "\n",
    "        for _epoch in range(self.nr_epochs):\n",
    "            train_epoch(self.model, self.loader_train, self.optimizer)\n",
    "\n",
    "        # Calculate gradients: initial_weights - final_weights\n",
    "        gradients = [\n",
    "            initial_weight - final_weight\n",
    "            for final_weight, initial_weight in zip(\n",
    "                self.model.parameters(), initial_weights\n",
    "            )\n",
    "        ]\n",
    "        return [gradient.detach().cpu().clone() for gradient in gradients]\n",
    "\n",
    "\n",
    "class FedAvgGradServer(DecentralizedServer):\n",
    "    def __init__(\n",
    "        self,\n",
    "        lr: float,\n",
    "        batch_size: int,\n",
    "        client_subsets: list[Subset],\n",
    "        client_fraction: float,\n",
    "        nr_local_epochs: int,\n",
    "        seed: int,\n",
    "        name: str,\n",
    "    ) -> None:\n",
    "        super().__init__(lr, batch_size, client_subsets, client_fraction, seed)\n",
    "        self.name = name\n",
    "        self.nr_local_epochs = nr_local_epochs\n",
    "        self.clients = [\n",
    "            GradWeightClient(subset, lr, batch_size, nr_local_epochs)\n",
    "            for subset in client_subsets\n",
    "        ]\n",
    "\n",
    "    def run(self, nr_rounds: int) -> RunResult:\n",
    "        elapsed_time = 0.0\n",
    "        run_result = RunResult(\n",
    "            self.name,\n",
    "            self.nr_clients,\n",
    "            self.client_fraction,\n",
    "            self.batch_size,\n",
    "            self.nr_local_epochs,\n",
    "            self.lr,\n",
    "            self.seed,\n",
    "        )\n",
    "\n",
    "        # Initial server weights\n",
    "        server_weights = [param.data.clone() for param in self.model.parameters()]\n",
    "\n",
    "        for nr_round in tqdm(range(nr_rounds), desc=\"Rounds\", leave=False):\n",
    "            # Other code remains the same until the aggregation part\n",
    "            setup_start_time = perf_counter()\n",
    "            self.model.train()\n",
    "            weights = [x.detach().cpu().clone() for x in self.model.parameters()]\n",
    "            indices_chosen_clients = self.rng.choice(\n",
    "                self.nr_clients, self.nr_clients_per_round, replace=False\n",
    "            )\n",
    "            chosen_sum_nr_samples = sum(\n",
    "                self.client_sample_counts[i] for i in indices_chosen_clients\n",
    "            )\n",
    "            chosen_adjusted_weights: list[list[torch.Tensor]] = []\n",
    "            elapsed_time += perf_counter() - setup_start_time\n",
    "            update_time = 0.0\n",
    "\n",
    "            for c_i in indices_chosen_clients:\n",
    "                update_start_time = perf_counter()\n",
    "                ind = int(c_i)\n",
    "                client_round_seed = (\n",
    "                    self.seed + ind + 1 + nr_round * self.nr_clients_per_round\n",
    "                )\n",
    "                client_weights = self.clients[ind].update(weights, client_round_seed)\n",
    "                chosen_adjusted_weights.append(\n",
    "                    [\n",
    "                        self.client_sample_counts[ind] / chosen_sum_nr_samples * tens\n",
    "                        for tens in client_weights\n",
    "                    ]\n",
    "                )\n",
    "                update_time = max(update_time, perf_counter() - update_start_time)\n",
    "\n",
    "            elapsed_time += update_time\n",
    "            aggregate_start_time = perf_counter()\n",
    "            averaged_gradients: list[torch.Tensor] = [\n",
    "                sum(x) for x in zip(*chosen_adjusted_weights)\n",
    "            ]\n",
    "\n",
    "            # Update server model with averaged gradients\n",
    "            with torch.no_grad():\n",
    "                for server_weight, gradient in zip(server_weights, averaged_gradients):\n",
    "                    server_weight -= gradient.to(\n",
    "                        device=device\n",
    "                    )  # Assume learning rate is absorbed in gradient\n",
    "\n",
    "            # Distribute updated weights to clients\n",
    "            with torch.no_grad():\n",
    "                for param, server_weight in zip(\n",
    "                    self.model.parameters(), server_weights\n",
    "                ):\n",
    "                    param.data[:] = server_weight.data\n",
    "\n",
    "            elapsed_time += perf_counter() - aggregate_start_time\n",
    "            run_result.wall_time.append(round(elapsed_time, 1))\n",
    "            run_result.message_count.append(\n",
    "                2 * (nr_round + 1) * self.nr_clients_per_round\n",
    "            )\n",
    "            run_result.test_accuracy.append(self.test())\n",
    "\n",
    "        return run_result"
   ]
  },
  {
   "cell_type": "markdown",
   "metadata": {},
   "source": [
    "### Define AttackerGradientReversion"
   ]
  },
  {
   "cell_type": "code",
   "execution_count": 3,
   "metadata": {},
   "outputs": [],
   "source": [
    "class AttackerGradientReversion(GradWeightClient):\n",
    "    def update(self, weights: list[torch.Tensor], seed: int) -> list[torch.Tensor]:\n",
    "        # Call the base implementation to perform the normal training and update process\n",
    "        honest_gradients = super().update(weights, seed)\n",
    "\n",
    "        # Reverse the gradients: for a malicious client, negate the weights to simulate an attack\n",
    "        reversed_gradients = [-5 * w for w in honest_gradients]\n",
    "\n",
    "        return reversed_gradients"
   ]
  },
  {
   "cell_type": "markdown",
   "metadata": {},
   "source": [
    "### Define Krum, Multi-Krum and Majority Sign"
   ]
  },
  {
   "cell_type": "code",
   "execution_count": 4,
   "metadata": {},
   "outputs": [],
   "source": [
    "def krum(clients_updates, n=20, m=4):\n",
    "    # Number of neighboring updates to consider\n",
    "    n_neighbors = n - m - 2\n",
    "    scores = []\n",
    "\n",
    "    # Calculate the score for each update\n",
    "    for i in range(len(clients_updates)):\n",
    "        distances = []\n",
    "        for j in range(len(clients_updates)):\n",
    "            if i != j:\n",
    "                # Compute squared l2 distance between updates\n",
    "                distance = sum(\n",
    "                    (param_i - param_j).pow(2).sum()\n",
    "                    for param_i, param_j in zip(\n",
    "                        clients_updates[i][1], clients_updates[j][1]\n",
    "                    )\n",
    "                )\n",
    "                distances.append(distance)\n",
    "\n",
    "        # Get the n_neighbors smallest distances\n",
    "        nearest_distances = sorted(distances)[:n_neighbors]\n",
    "        # Sum of these distances is the score of this client's update\n",
    "        scores.append(sum(nearest_distances))\n",
    "\n",
    "    # Select the index with the smallest score\n",
    "    selected_index = scores.index(min(scores))\n",
    "    return [selected_index]\n",
    "\n",
    "\n",
    "def multi_krum(clients_updates, k=14, n=20, m=5):\n",
    "    selected_indices = []\n",
    "    remaining_updates = clients_updates[:]\n",
    "\n",
    "    for i in range(k):\n",
    "        # Apply Krum to the remaining updates and get the index of the best gradient\n",
    "        selected_index = krum(remaining_updates, n - i, m)[0]\n",
    "\n",
    "        # Map selected index from remaining_updates back to the original clients_updates\n",
    "        original_index = clients_updates.index(remaining_updates[selected_index])\n",
    "        selected_indices.append(original_index)\n",
    "\n",
    "        # Remove the selected update from remaining_updates\n",
    "        remaining_updates.pop(selected_index)\n",
    "\n",
    "    return selected_indices\n",
    "\n",
    "\n",
    "def majority_sign_filter(all_updates):\n",
    "    # 'all_updates' is a list of lists of torch.Tensor objects,\n",
    "    # where each inner list contains the gradients for all parameters from one client.\n",
    "\n",
    "    # Step 1: Transpose the list to group gradients of the same parameter together\n",
    "    parameter_wise_updates = list(zip(*all_updates))\n",
    "\n",
    "    # Step 2: Calculate sign and count for determining majority\n",
    "    all_signs = [\n",
    "        torch.sign(torch.stack(parameter_group, dim=0))\n",
    "        for parameter_group in parameter_wise_updates\n",
    "    ]\n",
    "\n",
    "    # Step 3: Determine the majority sign for each parameter coordinate\n",
    "    majority_signs = [torch.sign(torch.sum(signs, dim=0)) for signs in all_signs]\n",
    "\n",
    "    # Step 4: Filter out gradients whose signs don't match the majority\n",
    "    filtered_updates = []\n",
    "    for idx, parameter_group in enumerate(parameter_wise_updates):\n",
    "        majority_sign = majority_signs[idx]\n",
    "        zeroed_gradients = []\n",
    "\n",
    "        for gradient in parameter_group:\n",
    "            gradient_signs = torch.sign(gradient)\n",
    "            # Zero out gradients where the sign does not match the majority\n",
    "            gradient[gradient_signs != majority_sign] = 0\n",
    "            zeroed_gradients.append(gradient)\n",
    "\n",
    "        # Step 5: Calculate the average of the filtered gradients\n",
    "        filtered_average = torch.mean(torch.stack(zeroed_gradients), dim=0)\n",
    "        filtered_updates.append(filtered_average * 20)\n",
    "\n",
    "    return filtered_updates"
   ]
  },
  {
   "cell_type": "markdown",
   "metadata": {},
   "source": [
    "### Define FedAvgServerDefense"
   ]
  },
  {
   "cell_type": "code",
   "execution_count": 5,
   "metadata": {},
   "outputs": [],
   "source": [
    "class FedAvgServerDefense(FedAvgGradServer):\n",
    "    def __init__(\n",
    "        self,\n",
    "        lr: float,\n",
    "        batch_size: int,\n",
    "        client_subsets: list,\n",
    "        client_fraction: float,\n",
    "        nr_local_epochs: int,\n",
    "        seed: int,\n",
    "        name: str,\n",
    "        defense=None,\n",
    "    ):\n",
    "        super().__init__(\n",
    "            lr, batch_size, client_subsets, client_fraction, nr_local_epochs, seed, name\n",
    "        )\n",
    "        self.defense_method = defense\n",
    "\n",
    "    def run(self, nr_rounds: int) -> RunResult:\n",
    "        # The beginning of the method remains unchanged\n",
    "        elapsed_time = 0.0\n",
    "        run_result = RunResult(\n",
    "            self.name,\n",
    "            self.nr_clients,\n",
    "            self.client_fraction,\n",
    "            self.batch_size,\n",
    "            self.nr_local_epochs,\n",
    "            self.lr,\n",
    "            self.seed,\n",
    "        )\n",
    "\n",
    "        # Initial server weights\n",
    "        server_weights = [param.data.clone() for param in self.model.parameters()]\n",
    "        for nr_round in tqdm(range(nr_rounds), desc=\"Rounds\", leave=False):\n",
    "            setup_start_time = perf_counter()\n",
    "            self.model.train()\n",
    "            weights = [x.detach().cpu().clone() for x in self.model.parameters()]\n",
    "            indices_chosen_clients = self.rng.choice(\n",
    "                self.nr_clients, self.nr_clients_per_round, replace=False\n",
    "            )\n",
    "            chosen_sum_nr_samples = sum(\n",
    "                self.client_sample_counts[i] for i in indices_chosen_clients\n",
    "            )\n",
    "            chosen_adjusted_weights: list[list[torch.Tensor]] = []\n",
    "            elapsed_time += perf_counter() - setup_start_time\n",
    "            update_time = 0.0\n",
    "\n",
    "            client_updates = []  # Store (client_index, updates) tuples\n",
    "            for c_i in indices_chosen_clients:\n",
    "                update_start_time = perf_counter()\n",
    "                ind = int(c_i)\n",
    "                client_round_seed = (\n",
    "                    self.seed + ind + 1 + nr_round * self.nr_clients_per_round\n",
    "                )\n",
    "                client_weights = self.clients[ind].update(weights, client_round_seed)\n",
    "                client_updates.append((ind, client_weights))\n",
    "                update_time = max(update_time, perf_counter() - update_start_time)\n",
    "            if self.defense_method:\n",
    "                selected_indices = self.defense_method(client_updates)\n",
    "            else:\n",
    "                selected_indices = range(\n",
    "                    len(client_updates)\n",
    "                )  # Use all updates if no defense is specified\n",
    "            print(\n",
    "                f\"The following indices are selected in the training {np.sort(indices_chosen_clients[selected_indices])}\"\n",
    "            )\n",
    "            chosen_sum_nr_samples = sum(\n",
    "                self.client_sample_counts[i]\n",
    "                for i in indices_chosen_clients[selected_indices]\n",
    "            )\n",
    "            chosen_adjusted_weights = [\n",
    "                [\n",
    "                    self.client_sample_counts[indices_chosen_clients[ind]]\n",
    "                    / chosen_sum_nr_samples\n",
    "                    * tens\n",
    "                    for tens in client_updates[ind][1]\n",
    "                ]\n",
    "                for ind in selected_indices\n",
    "            ]\n",
    "            # Aggregation logic remains the same from this point onwards\n",
    "            # Note that chosen_adjusted_weights now only contains updates from clients selected by multi_krum\n",
    "            elapsed_time += update_time\n",
    "            aggregate_start_time = perf_counter()\n",
    "            averaged_gradients: list[torch.Tensor] = [\n",
    "                sum(x) for x in zip(*chosen_adjusted_weights)\n",
    "            ]\n",
    "\n",
    "            # Update server model with averaged gradients\n",
    "            with torch.no_grad():\n",
    "                for server_weight, gradient in zip(server_weights, averaged_gradients):\n",
    "                    server_weight -= gradient.to(\n",
    "                        device=device\n",
    "                    )  # Assume learning rate is absorbed in gradient\n",
    "\n",
    "            # Distribute updated weights to clients\n",
    "            with torch.no_grad():\n",
    "                for param, server_weight in zip(\n",
    "                    self.model.parameters(), server_weights\n",
    "                ):\n",
    "                    param.data[:] = server_weight.data\n",
    "\n",
    "            elapsed_time += perf_counter() - aggregate_start_time\n",
    "            run_result.wall_time.append(round(elapsed_time, 1))\n",
    "            run_result.message_count.append(\n",
    "                2 * (nr_round + 1) * self.nr_clients_per_round\n",
    "            )\n",
    "            run_result.test_accuracy.append(self.test())\n",
    "\n",
    "        return run_result"
   ]
  },
  {
   "cell_type": "markdown",
   "metadata": {},
   "source": [
    "### Define FedAvgServerDefenseCoordinate"
   ]
  },
  {
   "cell_type": "code",
   "execution_count": 6,
   "metadata": {},
   "outputs": [],
   "source": [
    "class FedAvgServerDefenseCoordinate(FedAvgGradServer):\n",
    "    def __init__(\n",
    "        self,\n",
    "        lr: float,\n",
    "        batch_size: int,\n",
    "        client_subsets: list,\n",
    "        client_fraction: float,\n",
    "        nr_local_epochs: int,\n",
    "        seed: int,\n",
    "        name: str,\n",
    "        defense=None,\n",
    "    ):\n",
    "        super().__init__(\n",
    "            lr, batch_size, client_subsets, client_fraction, nr_local_epochs, seed, name\n",
    "        )\n",
    "        self.defense_method = defense\n",
    "\n",
    "    def run(self, nr_rounds: int) -> RunResult:\n",
    "        # The beginning of the method remains unchanged\n",
    "        elapsed_time = 0.0\n",
    "        run_result = RunResult(\n",
    "            self.name,\n",
    "            self.nr_clients,\n",
    "            self.client_fraction,\n",
    "            self.batch_size,\n",
    "            self.nr_local_epochs,\n",
    "            self.lr,\n",
    "            self.seed,\n",
    "        )\n",
    "\n",
    "        # Initial server weights\n",
    "        server_weights = [param.data.clone() for param in self.model.parameters()]\n",
    "        for nr_round in tqdm(range(nr_rounds), desc=\"Rounds\", leave=False):\n",
    "            setup_start_time = perf_counter()\n",
    "            self.model.train()\n",
    "            weights = [x.detach().cpu().clone() for x in self.model.parameters()]\n",
    "            indices_chosen_clients = self.rng.choice(\n",
    "                self.nr_clients, self.nr_clients_per_round, replace=False\n",
    "            )\n",
    "            chosen_sum_nr_samples = sum(\n",
    "                self.client_sample_counts[i] for i in indices_chosen_clients\n",
    "            )\n",
    "            chosen_adjusted_weights: list[list[torch.Tensor]] = []\n",
    "            elapsed_time += perf_counter() - setup_start_time\n",
    "            update_time = 0.0\n",
    "\n",
    "            client_updates = []  # Store (client_index, updates) tuples\n",
    "            for c_i in indices_chosen_clients:\n",
    "                update_start_time = perf_counter()\n",
    "                ind = int(c_i)\n",
    "                client_round_seed = (\n",
    "                    self.seed + ind + 1 + nr_round * self.nr_clients_per_round\n",
    "                )\n",
    "                client_weights = self.clients[ind].update(weights, client_round_seed)\n",
    "                chosen_adjusted_weights.append(\n",
    "                    [\n",
    "                        self.client_sample_counts[ind] / chosen_sum_nr_samples * tens\n",
    "                        for tens in client_weights\n",
    "                    ]\n",
    "                )\n",
    "                update_time = max(update_time, perf_counter() - update_start_time)\n",
    "\n",
    "            elapsed_time += update_time\n",
    "            aggregate_start_time = perf_counter()\n",
    "            if self.defense_method:\n",
    "                averaged_gradients = self.defense_method(chosen_adjusted_weights)\n",
    "            else:\n",
    "                averaged_gradients: list[torch.Tensor] = [\n",
    "                    sum(x) for x in zip(*chosen_adjusted_weights)\n",
    "                ]\n",
    "\n",
    "            # Update server model with averaged gradients\n",
    "            with torch.no_grad():\n",
    "                for server_weight, gradient in zip(server_weights, averaged_gradients):\n",
    "                    server_weight -= gradient.to(\n",
    "                        device=device\n",
    "                    )  # Assume learning rate is absorbed in gradient\n",
    "\n",
    "            # Distribute updated weights to clients\n",
    "            with torch.no_grad():\n",
    "                for param, server_weight in zip(\n",
    "                    self.model.parameters(), server_weights\n",
    "                ):\n",
    "                    param.data[:] = server_weight.data\n",
    "\n",
    "            elapsed_time += perf_counter() - aggregate_start_time\n",
    "            run_result.wall_time.append(round(elapsed_time, 1))\n",
    "            run_result.message_count.append(\n",
    "                2 * (nr_round + 1) * self.nr_clients_per_round\n",
    "            )\n",
    "            run_result.test_accuracy.append(self.test())\n",
    "\n",
    "        return run_result"
   ]
  },
  {
   "cell_type": "markdown",
   "metadata": {},
   "source": [
    "### Run without defense"
   ]
  },
  {
   "cell_type": "code",
   "execution_count": 7,
   "metadata": {},
   "outputs": [
    {
     "name": "stderr",
     "output_type": "stream",
     "text": [
      "                                                       \r"
     ]
    },
    {
     "data": {
      "text/html": [
       "<div>\n",
       "<style scoped>\n",
       "    .dataframe tbody tr th:only-of-type {\n",
       "        vertical-align: middle;\n",
       "    }\n",
       "\n",
       "    .dataframe tbody tr th {\n",
       "        vertical-align: top;\n",
       "    }\n",
       "\n",
       "    .dataframe thead th {\n",
       "        text-align: right;\n",
       "    }\n",
       "</style>\n",
       "<table border=\"1\" class=\"dataframe\">\n",
       "  <thead>\n",
       "    <tr style=\"text-align: right;\">\n",
       "      <th></th>\n",
       "      <th>Round</th>\n",
       "      <th>Algorithm</th>\n",
       "      <th>N</th>\n",
       "      <th>C</th>\n",
       "      <th>B</th>\n",
       "      <th>E</th>\n",
       "      <th>η</th>\n",
       "      <th>Seed</th>\n",
       "      <th>Message count</th>\n",
       "      <th>Test accuracy</th>\n",
       "    </tr>\n",
       "  </thead>\n",
       "  <tbody>\n",
       "    <tr>\n",
       "      <th>0</th>\n",
       "      <td>1</td>\n",
       "      <td>Non-IID: Without Defense</td>\n",
       "      <td>100</td>\n",
       "      <td>0.2</td>\n",
       "      <td>200</td>\n",
       "      <td>2</td>\n",
       "      <td>0.02</td>\n",
       "      <td>42</td>\n",
       "      <td>40</td>\n",
       "      <td>10.41</td>\n",
       "    </tr>\n",
       "    <tr>\n",
       "      <th>1</th>\n",
       "      <td>2</td>\n",
       "      <td>Non-IID: Without Defense</td>\n",
       "      <td>100</td>\n",
       "      <td>0.2</td>\n",
       "      <td>200</td>\n",
       "      <td>2</td>\n",
       "      <td>0.02</td>\n",
       "      <td>42</td>\n",
       "      <td>80</td>\n",
       "      <td>15.04</td>\n",
       "    </tr>\n",
       "    <tr>\n",
       "      <th>2</th>\n",
       "      <td>3</td>\n",
       "      <td>Non-IID: Without Defense</td>\n",
       "      <td>100</td>\n",
       "      <td>0.2</td>\n",
       "      <td>200</td>\n",
       "      <td>2</td>\n",
       "      <td>0.02</td>\n",
       "      <td>42</td>\n",
       "      <td>120</td>\n",
       "      <td>10.09</td>\n",
       "    </tr>\n",
       "    <tr>\n",
       "      <th>3</th>\n",
       "      <td>4</td>\n",
       "      <td>Non-IID: Without Defense</td>\n",
       "      <td>100</td>\n",
       "      <td>0.2</td>\n",
       "      <td>200</td>\n",
       "      <td>2</td>\n",
       "      <td>0.02</td>\n",
       "      <td>42</td>\n",
       "      <td>160</td>\n",
       "      <td>10.09</td>\n",
       "    </tr>\n",
       "    <tr>\n",
       "      <th>4</th>\n",
       "      <td>5</td>\n",
       "      <td>Non-IID: Without Defense</td>\n",
       "      <td>100</td>\n",
       "      <td>0.2</td>\n",
       "      <td>200</td>\n",
       "      <td>2</td>\n",
       "      <td>0.02</td>\n",
       "      <td>42</td>\n",
       "      <td>200</td>\n",
       "      <td>10.09</td>\n",
       "    </tr>\n",
       "    <tr>\n",
       "      <th>5</th>\n",
       "      <td>6</td>\n",
       "      <td>Non-IID: Without Defense</td>\n",
       "      <td>100</td>\n",
       "      <td>0.2</td>\n",
       "      <td>200</td>\n",
       "      <td>2</td>\n",
       "      <td>0.02</td>\n",
       "      <td>42</td>\n",
       "      <td>240</td>\n",
       "      <td>10.09</td>\n",
       "    </tr>\n",
       "    <tr>\n",
       "      <th>6</th>\n",
       "      <td>7</td>\n",
       "      <td>Non-IID: Without Defense</td>\n",
       "      <td>100</td>\n",
       "      <td>0.2</td>\n",
       "      <td>200</td>\n",
       "      <td>2</td>\n",
       "      <td>0.02</td>\n",
       "      <td>42</td>\n",
       "      <td>280</td>\n",
       "      <td>10.09</td>\n",
       "    </tr>\n",
       "    <tr>\n",
       "      <th>7</th>\n",
       "      <td>8</td>\n",
       "      <td>Non-IID: Without Defense</td>\n",
       "      <td>100</td>\n",
       "      <td>0.2</td>\n",
       "      <td>200</td>\n",
       "      <td>2</td>\n",
       "      <td>0.02</td>\n",
       "      <td>42</td>\n",
       "      <td>320</td>\n",
       "      <td>10.09</td>\n",
       "    </tr>\n",
       "    <tr>\n",
       "      <th>8</th>\n",
       "      <td>9</td>\n",
       "      <td>Non-IID: Without Defense</td>\n",
       "      <td>100</td>\n",
       "      <td>0.2</td>\n",
       "      <td>200</td>\n",
       "      <td>2</td>\n",
       "      <td>0.02</td>\n",
       "      <td>42</td>\n",
       "      <td>360</td>\n",
       "      <td>8.84</td>\n",
       "    </tr>\n",
       "    <tr>\n",
       "      <th>9</th>\n",
       "      <td>10</td>\n",
       "      <td>Non-IID: Without Defense</td>\n",
       "      <td>100</td>\n",
       "      <td>0.2</td>\n",
       "      <td>200</td>\n",
       "      <td>2</td>\n",
       "      <td>0.02</td>\n",
       "      <td>42</td>\n",
       "      <td>400</td>\n",
       "      <td>8.92</td>\n",
       "    </tr>\n",
       "  </tbody>\n",
       "</table>\n",
       "</div>"
      ],
      "text/plain": [
       "   Round                 Algorithm    N    C    B  E     η  Seed  \\\n",
       "0      1  Non-IID: Without Defense  100  0.2  200  2  0.02    42   \n",
       "1      2  Non-IID: Without Defense  100  0.2  200  2  0.02    42   \n",
       "2      3  Non-IID: Without Defense  100  0.2  200  2  0.02    42   \n",
       "3      4  Non-IID: Without Defense  100  0.2  200  2  0.02    42   \n",
       "4      5  Non-IID: Without Defense  100  0.2  200  2  0.02    42   \n",
       "5      6  Non-IID: Without Defense  100  0.2  200  2  0.02    42   \n",
       "6      7  Non-IID: Without Defense  100  0.2  200  2  0.02    42   \n",
       "7      8  Non-IID: Without Defense  100  0.2  200  2  0.02    42   \n",
       "8      9  Non-IID: Without Defense  100  0.2  200  2  0.02    42   \n",
       "9     10  Non-IID: Without Defense  100  0.2  200  2  0.02    42   \n",
       "\n",
       "   Message count  Test accuracy  \n",
       "0             40          10.41  \n",
       "1             80          15.04  \n",
       "2            120          10.09  \n",
       "3            160          10.09  \n",
       "4            200          10.09  \n",
       "5            240          10.09  \n",
       "6            280          10.09  \n",
       "7            320          10.09  \n",
       "8            360           8.84  \n",
       "9            400           8.92  "
      ]
     },
     "execution_count": 7,
     "metadata": {},
     "output_type": "execute_result"
    }
   ],
   "source": [
    "fedavg_server_reverse = FedAvgGradServer(\n",
    "    0.02, 200, sample_split_non_iid, 0.2, 2, 42, \"Non-IID: Without Defense\"\n",
    ")\n",
    "clients = fedavg_server_reverse.clients\n",
    "# Number of clients to be made malicious with gradient reversion\n",
    "num_malicious = int(0.20 * len(clients))  # For example, 20%\n",
    "# Randomly select indices for the clients to undergo gradient inversion attack\n",
    "malicious_indices = np.random.choice(len(clients), num_malicious, replace=False)\n",
    "\n",
    "# Replace the selected clients with instances of AttackerGradientInversion\n",
    "for idx in malicious_indices:\n",
    "    client_data = clients[idx].loader_train.dataset\n",
    "    lr = clients[idx].optimizer.param_groups[0][\"lr\"]\n",
    "    batch_size = clients[idx].loader_train.batch_size\n",
    "    nr_epochs = clients[idx].nr_epochs\n",
    "    clients[idx] = AttackerGradientReversion(client_data, lr, batch_size, nr_epochs)\n",
    "\n",
    "result_fedavg_reverse = fedavg_server_reverse.run(10)\n",
    "fedavg_df_reverse_non_iid = result_fedavg_reverse.as_df()\n",
    "fedavg_df_reverse_non_iid"
   ]
  },
  {
   "cell_type": "code",
   "execution_count": 8,
   "metadata": {},
   "outputs": [
    {
     "name": "stderr",
     "output_type": "stream",
     "text": [
      "                                                       \r"
     ]
    },
    {
     "data": {
      "text/html": [
       "<div>\n",
       "<style scoped>\n",
       "    .dataframe tbody tr th:only-of-type {\n",
       "        vertical-align: middle;\n",
       "    }\n",
       "\n",
       "    .dataframe tbody tr th {\n",
       "        vertical-align: top;\n",
       "    }\n",
       "\n",
       "    .dataframe thead th {\n",
       "        text-align: right;\n",
       "    }\n",
       "</style>\n",
       "<table border=\"1\" class=\"dataframe\">\n",
       "  <thead>\n",
       "    <tr style=\"text-align: right;\">\n",
       "      <th></th>\n",
       "      <th>Round</th>\n",
       "      <th>Algorithm</th>\n",
       "      <th>N</th>\n",
       "      <th>C</th>\n",
       "      <th>B</th>\n",
       "      <th>E</th>\n",
       "      <th>η</th>\n",
       "      <th>Seed</th>\n",
       "      <th>Message count</th>\n",
       "      <th>Test accuracy</th>\n",
       "    </tr>\n",
       "  </thead>\n",
       "  <tbody>\n",
       "    <tr>\n",
       "      <th>0</th>\n",
       "      <td>1</td>\n",
       "      <td>IID: Without Defense</td>\n",
       "      <td>100</td>\n",
       "      <td>0.2</td>\n",
       "      <td>200</td>\n",
       "      <td>2</td>\n",
       "      <td>0.02</td>\n",
       "      <td>42</td>\n",
       "      <td>40</td>\n",
       "      <td>9.11</td>\n",
       "    </tr>\n",
       "    <tr>\n",
       "      <th>1</th>\n",
       "      <td>2</td>\n",
       "      <td>IID: Without Defense</td>\n",
       "      <td>100</td>\n",
       "      <td>0.2</td>\n",
       "      <td>200</td>\n",
       "      <td>2</td>\n",
       "      <td>0.02</td>\n",
       "      <td>42</td>\n",
       "      <td>80</td>\n",
       "      <td>3.46</td>\n",
       "    </tr>\n",
       "    <tr>\n",
       "      <th>2</th>\n",
       "      <td>3</td>\n",
       "      <td>IID: Without Defense</td>\n",
       "      <td>100</td>\n",
       "      <td>0.2</td>\n",
       "      <td>200</td>\n",
       "      <td>2</td>\n",
       "      <td>0.02</td>\n",
       "      <td>42</td>\n",
       "      <td>120</td>\n",
       "      <td>0.42</td>\n",
       "    </tr>\n",
       "    <tr>\n",
       "      <th>3</th>\n",
       "      <td>4</td>\n",
       "      <td>IID: Without Defense</td>\n",
       "      <td>100</td>\n",
       "      <td>0.2</td>\n",
       "      <td>200</td>\n",
       "      <td>2</td>\n",
       "      <td>0.02</td>\n",
       "      <td>42</td>\n",
       "      <td>160</td>\n",
       "      <td>0.41</td>\n",
       "    </tr>\n",
       "    <tr>\n",
       "      <th>4</th>\n",
       "      <td>5</td>\n",
       "      <td>IID: Without Defense</td>\n",
       "      <td>100</td>\n",
       "      <td>0.2</td>\n",
       "      <td>200</td>\n",
       "      <td>2</td>\n",
       "      <td>0.02</td>\n",
       "      <td>42</td>\n",
       "      <td>200</td>\n",
       "      <td>1.42</td>\n",
       "    </tr>\n",
       "    <tr>\n",
       "      <th>5</th>\n",
       "      <td>6</td>\n",
       "      <td>IID: Without Defense</td>\n",
       "      <td>100</td>\n",
       "      <td>0.2</td>\n",
       "      <td>200</td>\n",
       "      <td>2</td>\n",
       "      <td>0.02</td>\n",
       "      <td>42</td>\n",
       "      <td>240</td>\n",
       "      <td>0.84</td>\n",
       "    </tr>\n",
       "    <tr>\n",
       "      <th>6</th>\n",
       "      <td>7</td>\n",
       "      <td>IID: Without Defense</td>\n",
       "      <td>100</td>\n",
       "      <td>0.2</td>\n",
       "      <td>200</td>\n",
       "      <td>2</td>\n",
       "      <td>0.02</td>\n",
       "      <td>42</td>\n",
       "      <td>280</td>\n",
       "      <td>0.32</td>\n",
       "    </tr>\n",
       "    <tr>\n",
       "      <th>7</th>\n",
       "      <td>8</td>\n",
       "      <td>IID: Without Defense</td>\n",
       "      <td>100</td>\n",
       "      <td>0.2</td>\n",
       "      <td>200</td>\n",
       "      <td>2</td>\n",
       "      <td>0.02</td>\n",
       "      <td>42</td>\n",
       "      <td>320</td>\n",
       "      <td>0.30</td>\n",
       "    </tr>\n",
       "    <tr>\n",
       "      <th>8</th>\n",
       "      <td>9</td>\n",
       "      <td>IID: Without Defense</td>\n",
       "      <td>100</td>\n",
       "      <td>0.2</td>\n",
       "      <td>200</td>\n",
       "      <td>2</td>\n",
       "      <td>0.02</td>\n",
       "      <td>42</td>\n",
       "      <td>360</td>\n",
       "      <td>0.36</td>\n",
       "    </tr>\n",
       "    <tr>\n",
       "      <th>9</th>\n",
       "      <td>10</td>\n",
       "      <td>IID: Without Defense</td>\n",
       "      <td>100</td>\n",
       "      <td>0.2</td>\n",
       "      <td>200</td>\n",
       "      <td>2</td>\n",
       "      <td>0.02</td>\n",
       "      <td>42</td>\n",
       "      <td>400</td>\n",
       "      <td>0.30</td>\n",
       "    </tr>\n",
       "  </tbody>\n",
       "</table>\n",
       "</div>"
      ],
      "text/plain": [
       "   Round             Algorithm    N    C    B  E     η  Seed  Message count  \\\n",
       "0      1  IID: Without Defense  100  0.2  200  2  0.02    42             40   \n",
       "1      2  IID: Without Defense  100  0.2  200  2  0.02    42             80   \n",
       "2      3  IID: Without Defense  100  0.2  200  2  0.02    42            120   \n",
       "3      4  IID: Without Defense  100  0.2  200  2  0.02    42            160   \n",
       "4      5  IID: Without Defense  100  0.2  200  2  0.02    42            200   \n",
       "5      6  IID: Without Defense  100  0.2  200  2  0.02    42            240   \n",
       "6      7  IID: Without Defense  100  0.2  200  2  0.02    42            280   \n",
       "7      8  IID: Without Defense  100  0.2  200  2  0.02    42            320   \n",
       "8      9  IID: Without Defense  100  0.2  200  2  0.02    42            360   \n",
       "9     10  IID: Without Defense  100  0.2  200  2  0.02    42            400   \n",
       "\n",
       "   Test accuracy  \n",
       "0           9.11  \n",
       "1           3.46  \n",
       "2           0.42  \n",
       "3           0.41  \n",
       "4           1.42  \n",
       "5           0.84  \n",
       "6           0.32  \n",
       "7           0.30  \n",
       "8           0.36  \n",
       "9           0.30  "
      ]
     },
     "execution_count": 8,
     "metadata": {},
     "output_type": "execute_result"
    }
   ],
   "source": [
    "fedavg_server_reverse = FedAvgGradServer(\n",
    "    0.02, 200, sample_split_iid, 0.2, 2, 42, \"IID: Without Defense\"\n",
    ")\n",
    "clients = fedavg_server_reverse.clients\n",
    "# Number of clients to be made malicious with gradient reversion\n",
    "num_malicious = int(0.20 * len(clients))  # For example, 20%\n",
    "# Randomly select indices for the clients to undergo gradient inversion attack\n",
    "malicious_indices = np.random.choice(len(clients), num_malicious, replace=False)\n",
    "\n",
    "# Replace the selected clients with instances of AttackerGradientInversion\n",
    "for idx in malicious_indices:\n",
    "    client_data = clients[idx].loader_train.dataset\n",
    "    lr = clients[idx].optimizer.param_groups[0][\"lr\"]\n",
    "    batch_size = clients[idx].loader_train.batch_size\n",
    "    nr_epochs = clients[idx].nr_epochs\n",
    "    clients[idx] = AttackerGradientReversion(client_data, lr, batch_size, nr_epochs)\n",
    "\n",
    "result_fedavg_reverse = fedavg_server_reverse.run(10)\n",
    "fedavg_df_reverse_iid = result_fedavg_reverse.as_df()\n",
    "fedavg_df_reverse_iid"
   ]
  },
  {
   "cell_type": "markdown",
   "metadata": {},
   "source": [
    "### Run with Krum"
   ]
  },
  {
   "cell_type": "code",
   "execution_count": 9,
   "metadata": {},
   "outputs": [
    {
     "name": "stdout",
     "output_type": "stream",
     "text": [
      "the following is the malicious indices: [ 2  6 13 20 24 32 36 40 44 45 54 63 66 74 76 77 79 88 91 96]\n"
     ]
    },
    {
     "name": "stderr",
     "output_type": "stream",
     "text": [
      "Rounds:   0%|          | 0/10 [00:00<?, ?it/s]"
     ]
    },
    {
     "name": "stdout",
     "output_type": "stream",
     "text": [
      "The following indices are selected in the training [68]\n"
     ]
    },
    {
     "name": "stderr",
     "output_type": "stream",
     "text": [
      "Rounds:  10%|█         | 1/10 [00:08<01:20,  8.91s/it]"
     ]
    },
    {
     "name": "stdout",
     "output_type": "stream",
     "text": [
      "The following indices are selected in the training [70]\n"
     ]
    },
    {
     "name": "stderr",
     "output_type": "stream",
     "text": [
      "Rounds:  20%|██        | 2/10 [00:15<01:00,  7.56s/it]"
     ]
    },
    {
     "name": "stdout",
     "output_type": "stream",
     "text": [
      "The following indices are selected in the training [68]\n"
     ]
    },
    {
     "name": "stderr",
     "output_type": "stream",
     "text": [
      "Rounds:  30%|███       | 3/10 [00:22<00:52,  7.47s/it]"
     ]
    },
    {
     "name": "stdout",
     "output_type": "stream",
     "text": [
      "The following indices are selected in the training [56]\n"
     ]
    },
    {
     "name": "stderr",
     "output_type": "stream",
     "text": [
      "Rounds:  40%|████      | 4/10 [00:32<00:50,  8.49s/it]"
     ]
    },
    {
     "name": "stdout",
     "output_type": "stream",
     "text": [
      "The following indices are selected in the training [37]\n"
     ]
    },
    {
     "name": "stderr",
     "output_type": "stream",
     "text": [
      "Rounds:  50%|█████     | 5/10 [00:41<00:42,  8.53s/it]"
     ]
    },
    {
     "name": "stdout",
     "output_type": "stream",
     "text": [
      "The following indices are selected in the training [93]\n"
     ]
    },
    {
     "name": "stderr",
     "output_type": "stream",
     "text": [
      "Rounds:  60%|██████    | 6/10 [00:50<00:34,  8.52s/it]"
     ]
    },
    {
     "name": "stdout",
     "output_type": "stream",
     "text": [
      "The following indices are selected in the training [93]\n"
     ]
    },
    {
     "name": "stderr",
     "output_type": "stream",
     "text": [
      "Rounds:  70%|███████   | 7/10 [00:58<00:25,  8.41s/it]"
     ]
    },
    {
     "name": "stdout",
     "output_type": "stream",
     "text": [
      "The following indices are selected in the training [5]\n"
     ]
    },
    {
     "name": "stderr",
     "output_type": "stream",
     "text": [
      "Rounds:  80%|████████  | 8/10 [06:56<03:59, 119.81s/it]"
     ]
    },
    {
     "name": "stdout",
     "output_type": "stream",
     "text": [
      "The following indices are selected in the training [84]\n"
     ]
    },
    {
     "name": "stderr",
     "output_type": "stream",
     "text": [
      "Rounds:  90%|█████████ | 9/10 [07:05<01:25, 85.21s/it] "
     ]
    },
    {
     "name": "stdout",
     "output_type": "stream",
     "text": [
      "The following indices are selected in the training [84]\n"
     ]
    },
    {
     "name": "stderr",
     "output_type": "stream",
     "text": [
      "                                                       \r"
     ]
    },
    {
     "data": {
      "text/html": [
       "<div>\n",
       "<style scoped>\n",
       "    .dataframe tbody tr th:only-of-type {\n",
       "        vertical-align: middle;\n",
       "    }\n",
       "\n",
       "    .dataframe tbody tr th {\n",
       "        vertical-align: top;\n",
       "    }\n",
       "\n",
       "    .dataframe thead th {\n",
       "        text-align: right;\n",
       "    }\n",
       "</style>\n",
       "<table border=\"1\" class=\"dataframe\">\n",
       "  <thead>\n",
       "    <tr style=\"text-align: right;\">\n",
       "      <th></th>\n",
       "      <th>Round</th>\n",
       "      <th>Algorithm</th>\n",
       "      <th>N</th>\n",
       "      <th>C</th>\n",
       "      <th>B</th>\n",
       "      <th>E</th>\n",
       "      <th>η</th>\n",
       "      <th>Seed</th>\n",
       "      <th>Message count</th>\n",
       "      <th>Test accuracy</th>\n",
       "    </tr>\n",
       "  </thead>\n",
       "  <tbody>\n",
       "    <tr>\n",
       "      <th>0</th>\n",
       "      <td>1</td>\n",
       "      <td>Non-IID: Krum</td>\n",
       "      <td>100</td>\n",
       "      <td>0.2</td>\n",
       "      <td>200</td>\n",
       "      <td>2</td>\n",
       "      <td>0.02</td>\n",
       "      <td>42</td>\n",
       "      <td>40</td>\n",
       "      <td>12.45</td>\n",
       "    </tr>\n",
       "    <tr>\n",
       "      <th>1</th>\n",
       "      <td>2</td>\n",
       "      <td>Non-IID: Krum</td>\n",
       "      <td>100</td>\n",
       "      <td>0.2</td>\n",
       "      <td>200</td>\n",
       "      <td>2</td>\n",
       "      <td>0.02</td>\n",
       "      <td>42</td>\n",
       "      <td>80</td>\n",
       "      <td>17.88</td>\n",
       "    </tr>\n",
       "    <tr>\n",
       "      <th>2</th>\n",
       "      <td>3</td>\n",
       "      <td>Non-IID: Krum</td>\n",
       "      <td>100</td>\n",
       "      <td>0.2</td>\n",
       "      <td>200</td>\n",
       "      <td>2</td>\n",
       "      <td>0.02</td>\n",
       "      <td>42</td>\n",
       "      <td>120</td>\n",
       "      <td>17.88</td>\n",
       "    </tr>\n",
       "    <tr>\n",
       "      <th>3</th>\n",
       "      <td>4</td>\n",
       "      <td>Non-IID: Krum</td>\n",
       "      <td>100</td>\n",
       "      <td>0.2</td>\n",
       "      <td>200</td>\n",
       "      <td>2</td>\n",
       "      <td>0.02</td>\n",
       "      <td>42</td>\n",
       "      <td>160</td>\n",
       "      <td>15.05</td>\n",
       "    </tr>\n",
       "    <tr>\n",
       "      <th>4</th>\n",
       "      <td>5</td>\n",
       "      <td>Non-IID: Krum</td>\n",
       "      <td>100</td>\n",
       "      <td>0.2</td>\n",
       "      <td>200</td>\n",
       "      <td>2</td>\n",
       "      <td>0.02</td>\n",
       "      <td>42</td>\n",
       "      <td>200</td>\n",
       "      <td>19.37</td>\n",
       "    </tr>\n",
       "    <tr>\n",
       "      <th>5</th>\n",
       "      <td>6</td>\n",
       "      <td>Non-IID: Krum</td>\n",
       "      <td>100</td>\n",
       "      <td>0.2</td>\n",
       "      <td>200</td>\n",
       "      <td>2</td>\n",
       "      <td>0.02</td>\n",
       "      <td>42</td>\n",
       "      <td>240</td>\n",
       "      <td>18.93</td>\n",
       "    </tr>\n",
       "    <tr>\n",
       "      <th>6</th>\n",
       "      <td>7</td>\n",
       "      <td>Non-IID: Krum</td>\n",
       "      <td>100</td>\n",
       "      <td>0.2</td>\n",
       "      <td>200</td>\n",
       "      <td>2</td>\n",
       "      <td>0.02</td>\n",
       "      <td>42</td>\n",
       "      <td>280</td>\n",
       "      <td>19.01</td>\n",
       "    </tr>\n",
       "    <tr>\n",
       "      <th>7</th>\n",
       "      <td>8</td>\n",
       "      <td>Non-IID: Krum</td>\n",
       "      <td>100</td>\n",
       "      <td>0.2</td>\n",
       "      <td>200</td>\n",
       "      <td>2</td>\n",
       "      <td>0.02</td>\n",
       "      <td>42</td>\n",
       "      <td>320</td>\n",
       "      <td>14.27</td>\n",
       "    </tr>\n",
       "    <tr>\n",
       "      <th>8</th>\n",
       "      <td>9</td>\n",
       "      <td>Non-IID: Krum</td>\n",
       "      <td>100</td>\n",
       "      <td>0.2</td>\n",
       "      <td>200</td>\n",
       "      <td>2</td>\n",
       "      <td>0.02</td>\n",
       "      <td>42</td>\n",
       "      <td>360</td>\n",
       "      <td>21.11</td>\n",
       "    </tr>\n",
       "    <tr>\n",
       "      <th>9</th>\n",
       "      <td>10</td>\n",
       "      <td>Non-IID: Krum</td>\n",
       "      <td>100</td>\n",
       "      <td>0.2</td>\n",
       "      <td>200</td>\n",
       "      <td>2</td>\n",
       "      <td>0.02</td>\n",
       "      <td>42</td>\n",
       "      <td>400</td>\n",
       "      <td>21.10</td>\n",
       "    </tr>\n",
       "  </tbody>\n",
       "</table>\n",
       "</div>"
      ],
      "text/plain": [
       "   Round      Algorithm    N    C    B  E     η  Seed  Message count  \\\n",
       "0      1  Non-IID: Krum  100  0.2  200  2  0.02    42             40   \n",
       "1      2  Non-IID: Krum  100  0.2  200  2  0.02    42             80   \n",
       "2      3  Non-IID: Krum  100  0.2  200  2  0.02    42            120   \n",
       "3      4  Non-IID: Krum  100  0.2  200  2  0.02    42            160   \n",
       "4      5  Non-IID: Krum  100  0.2  200  2  0.02    42            200   \n",
       "5      6  Non-IID: Krum  100  0.2  200  2  0.02    42            240   \n",
       "6      7  Non-IID: Krum  100  0.2  200  2  0.02    42            280   \n",
       "7      8  Non-IID: Krum  100  0.2  200  2  0.02    42            320   \n",
       "8      9  Non-IID: Krum  100  0.2  200  2  0.02    42            360   \n",
       "9     10  Non-IID: Krum  100  0.2  200  2  0.02    42            400   \n",
       "\n",
       "   Test accuracy  \n",
       "0          12.45  \n",
       "1          17.88  \n",
       "2          17.88  \n",
       "3          15.05  \n",
       "4          19.37  \n",
       "5          18.93  \n",
       "6          19.01  \n",
       "7          14.27  \n",
       "8          21.11  \n",
       "9          21.10  "
      ]
     },
     "execution_count": 9,
     "metadata": {},
     "output_type": "execute_result"
    }
   ],
   "source": [
    "fedavg_server = FedAvgServerDefense(\n",
    "    0.02, 200, sample_split_non_iid, 0.2, 2, 42, \"Non-IID: Krum\", defense=krum\n",
    ")\n",
    "clients = fedavg_server.clients\n",
    "# Number of clients to be made malicious with gradient reversion\n",
    "num_malicious = int(0.20 * len(clients))  # For example, 20%\n",
    "# Randomly select indices for the clients to undergo gradient inversion attack\n",
    "malicious_indices = np.random.choice(len(clients), num_malicious, replace=False)\n",
    "# Replace the selected clients with instances of AttackerGradientInversion\n",
    "print(f\"the following is the malicious indices: {np.sort(malicious_indices)}\")\n",
    "for idx in malicious_indices:\n",
    "    client_data = clients[idx].loader_train.dataset\n",
    "    lr = clients[idx].optimizer.param_groups[0][\"lr\"]\n",
    "    batch_size = clients[idx].loader_train.batch_size\n",
    "    nr_epochs = clients[idx].nr_epochs\n",
    "    clients[idx] = AttackerGradientReversion(client_data, lr, batch_size, nr_epochs)\n",
    "\n",
    "result_fedavg_krum = fedavg_server.run(10)\n",
    "fedavg_df_krum_non_iid = result_fedavg_krum.as_df()\n",
    "fedavg_df_krum_non_iid"
   ]
  },
  {
   "cell_type": "code",
   "execution_count": 10,
   "metadata": {},
   "outputs": [
    {
     "ename": "",
     "evalue": "",
     "output_type": "error",
     "traceback": [
      "\u001b[1;31mThe Kernel crashed while executing code in the current cell or a previous cell. \n",
      "\u001b[1;31mPlease review the code in the cell(s) to identify a possible cause of the failure. \n",
      "\u001b[1;31mClick <a href='https://aka.ms/vscodeJupyterKernelCrash'>here</a> for more info. \n",
      "\u001b[1;31mView Jupyter <a href='command:jupyter.viewOutput'>log</a> for further details."
     ]
    }
   ],
   "source": [
    "fedavg_server = FedAvgServerDefense(\n",
    "    0.02, 200, sample_split_iid, 0.2, 2, 42, \"IID: Krum\", defense=krum\n",
    ")\n",
    "clients = fedavg_server.clients\n",
    "# Number of clients to be made malicious with gradient reversion\n",
    "num_malicious = int(0.20 * len(clients))  # For example, 20%\n",
    "# Randomly select indices for the clients to undergo gradient inversion attack\n",
    "malicious_indices = np.random.choice(len(clients), num_malicious, replace=False)\n",
    "# Replace the selected clients with instances of AttackerGradientInversion\n",
    "print(f\"the following is the malicious indices: {np.sort(malicious_indices)}\")\n",
    "for idx in malicious_indices:\n",
    "    client_data = clients[idx].loader_train.dataset\n",
    "    lr = clients[idx].optimizer.param_groups[0][\"lr\"]\n",
    "    batch_size = clients[idx].loader_train.batch_size\n",
    "    nr_epochs = clients[idx].nr_epochs\n",
    "    clients[idx] = AttackerGradientReversion(client_data, lr, batch_size, nr_epochs)\n",
    "\n",
    "result_fedavg_krum = fedavg_server.run(10)\n",
    "fedavg_df_krum_iid = result_fedavg_krum.as_df()\n",
    "fedavg_df_krum_iid"
   ]
  },
  {
   "cell_type": "markdown",
   "metadata": {},
   "source": [
    "### Run with Multi-Krum"
   ]
  },
  {
   "cell_type": "code",
   "execution_count": null,
   "metadata": {},
   "outputs": [
    {
     "name": "stdout",
     "output_type": "stream",
     "text": [
      "The following is the malicious indices: [14 18 21 24 33 34 37 39 41 55 58 67 68 69 77 78 79 95 98 99]\n"
     ]
    },
    {
     "name": "stderr",
     "output_type": "stream",
     "text": [
      "Rounds:   0%|          | 0/10 [00:00<?, ?it/s]"
     ]
    },
    {
     "name": "stdout",
     "output_type": "stream",
     "text": [
      "The following indices are selected in the training [ 7  8 12 47 49 61 63 71 73 75 83 84 89 94]\n"
     ]
    },
    {
     "name": "stderr",
     "output_type": "stream",
     "text": [
      "Rounds:  10%|█         | 1/10 [00:11<01:47, 11.92s/it]"
     ]
    },
    {
     "name": "stdout",
     "output_type": "stream",
     "text": [
      "The following indices are selected in the training [ 4  5 13 15 30 44 47 51 53 61 62 70 74 79]\n"
     ]
    },
    {
     "name": "stderr",
     "output_type": "stream",
     "text": [
      "Rounds:  20%|██        | 2/10 [00:24<01:36, 12.08s/it]"
     ]
    },
    {
     "name": "stdout",
     "output_type": "stream",
     "text": [
      "The following indices are selected in the training [ 8 13 28 36 37 40 54 61 71 75 76 86 87 97]\n"
     ]
    },
    {
     "name": "stderr",
     "output_type": "stream",
     "text": [
      "Rounds:  30%|███       | 3/10 [00:37<01:27, 12.51s/it]"
     ]
    },
    {
     "name": "stdout",
     "output_type": "stream",
     "text": [
      "The following indices are selected in the training [ 7  8  9 20 30 40 50 52 53 54 56 59 75 85]\n"
     ]
    },
    {
     "name": "stderr",
     "output_type": "stream",
     "text": [
      "Rounds:  40%|████      | 4/10 [00:50<01:18, 13.03s/it]"
     ]
    },
    {
     "name": "stdout",
     "output_type": "stream",
     "text": [
      "The following indices are selected in the training [ 2  8 10 15 29 31 46 65 70 73 74 84 87 94]\n"
     ]
    },
    {
     "name": "stderr",
     "output_type": "stream",
     "text": [
      "Rounds:  50%|█████     | 5/10 [01:06<01:10, 14.02s/it]"
     ]
    },
    {
     "name": "stdout",
     "output_type": "stream",
     "text": [
      "The following indices are selected in the training [ 7  9 25 28 31 43 44 62 70 73 81 90 93 99]\n"
     ]
    },
    {
     "name": "stderr",
     "output_type": "stream",
     "text": [
      "Rounds:  60%|██████    | 6/10 [01:22<00:58, 14.55s/it]"
     ]
    },
    {
     "name": "stdout",
     "output_type": "stream",
     "text": [
      "The following indices are selected in the training [ 3  7  8 12 17 26 32 39 48 53 57 70 74 89]\n"
     ]
    },
    {
     "name": "stderr",
     "output_type": "stream",
     "text": [
      "Rounds:  70%|███████   | 7/10 [01:40<00:47, 15.68s/it]"
     ]
    },
    {
     "name": "stdout",
     "output_type": "stream",
     "text": [
      "The following indices are selected in the training [ 5  7 15 26 40 43 44 45 52 54 60 87 91 95]\n"
     ]
    },
    {
     "name": "stderr",
     "output_type": "stream",
     "text": [
      "Rounds:  80%|████████  | 8/10 [01:57<00:32, 16.24s/it]"
     ]
    },
    {
     "name": "stdout",
     "output_type": "stream",
     "text": [
      "The following indices are selected in the training [ 9 13 20 22 23 28 37 54 62 81 84 85 89 90]\n"
     ]
    },
    {
     "name": "stderr",
     "output_type": "stream",
     "text": [
      "Rounds:  90%|█████████ | 9/10 [02:16<00:17, 17.09s/it]"
     ]
    },
    {
     "name": "stdout",
     "output_type": "stream",
     "text": [
      "The following indices are selected in the training [ 2  3  8 13 20 30 49 66 76 81 83 84 90 98]\n"
     ]
    },
    {
     "name": "stderr",
     "output_type": "stream",
     "text": [
      "                                                       \r"
     ]
    },
    {
     "data": {
      "text/html": [
       "<div>\n",
       "<style scoped>\n",
       "    .dataframe tbody tr th:only-of-type {\n",
       "        vertical-align: middle;\n",
       "    }\n",
       "\n",
       "    .dataframe tbody tr th {\n",
       "        vertical-align: top;\n",
       "    }\n",
       "\n",
       "    .dataframe thead th {\n",
       "        text-align: right;\n",
       "    }\n",
       "</style>\n",
       "<table border=\"1\" class=\"dataframe\">\n",
       "  <thead>\n",
       "    <tr style=\"text-align: right;\">\n",
       "      <th></th>\n",
       "      <th>Round</th>\n",
       "      <th>Algorithm</th>\n",
       "      <th>N</th>\n",
       "      <th>C</th>\n",
       "      <th>B</th>\n",
       "      <th>E</th>\n",
       "      <th>η</th>\n",
       "      <th>Seed</th>\n",
       "      <th>Message count</th>\n",
       "      <th>Test accuracy</th>\n",
       "    </tr>\n",
       "  </thead>\n",
       "  <tbody>\n",
       "    <tr>\n",
       "      <th>0</th>\n",
       "      <td>1</td>\n",
       "      <td>Non-IID: Multi-Krum</td>\n",
       "      <td>100</td>\n",
       "      <td>0.2</td>\n",
       "      <td>200</td>\n",
       "      <td>2</td>\n",
       "      <td>0.02</td>\n",
       "      <td>42</td>\n",
       "      <td>40</td>\n",
       "      <td>9.79</td>\n",
       "    </tr>\n",
       "    <tr>\n",
       "      <th>1</th>\n",
       "      <td>2</td>\n",
       "      <td>Non-IID: Multi-Krum</td>\n",
       "      <td>100</td>\n",
       "      <td>0.2</td>\n",
       "      <td>200</td>\n",
       "      <td>2</td>\n",
       "      <td>0.02</td>\n",
       "      <td>42</td>\n",
       "      <td>80</td>\n",
       "      <td>10.10</td>\n",
       "    </tr>\n",
       "    <tr>\n",
       "      <th>2</th>\n",
       "      <td>3</td>\n",
       "      <td>Non-IID: Multi-Krum</td>\n",
       "      <td>100</td>\n",
       "      <td>0.2</td>\n",
       "      <td>200</td>\n",
       "      <td>2</td>\n",
       "      <td>0.02</td>\n",
       "      <td>42</td>\n",
       "      <td>120</td>\n",
       "      <td>19.72</td>\n",
       "    </tr>\n",
       "    <tr>\n",
       "      <th>3</th>\n",
       "      <td>4</td>\n",
       "      <td>Non-IID: Multi-Krum</td>\n",
       "      <td>100</td>\n",
       "      <td>0.2</td>\n",
       "      <td>200</td>\n",
       "      <td>2</td>\n",
       "      <td>0.02</td>\n",
       "      <td>42</td>\n",
       "      <td>160</td>\n",
       "      <td>29.92</td>\n",
       "    </tr>\n",
       "    <tr>\n",
       "      <th>4</th>\n",
       "      <td>5</td>\n",
       "      <td>Non-IID: Multi-Krum</td>\n",
       "      <td>100</td>\n",
       "      <td>0.2</td>\n",
       "      <td>200</td>\n",
       "      <td>2</td>\n",
       "      <td>0.02</td>\n",
       "      <td>42</td>\n",
       "      <td>200</td>\n",
       "      <td>34.58</td>\n",
       "    </tr>\n",
       "    <tr>\n",
       "      <th>5</th>\n",
       "      <td>6</td>\n",
       "      <td>Non-IID: Multi-Krum</td>\n",
       "      <td>100</td>\n",
       "      <td>0.2</td>\n",
       "      <td>200</td>\n",
       "      <td>2</td>\n",
       "      <td>0.02</td>\n",
       "      <td>42</td>\n",
       "      <td>240</td>\n",
       "      <td>50.98</td>\n",
       "    </tr>\n",
       "    <tr>\n",
       "      <th>6</th>\n",
       "      <td>7</td>\n",
       "      <td>Non-IID: Multi-Krum</td>\n",
       "      <td>100</td>\n",
       "      <td>0.2</td>\n",
       "      <td>200</td>\n",
       "      <td>2</td>\n",
       "      <td>0.02</td>\n",
       "      <td>42</td>\n",
       "      <td>280</td>\n",
       "      <td>45.04</td>\n",
       "    </tr>\n",
       "    <tr>\n",
       "      <th>7</th>\n",
       "      <td>8</td>\n",
       "      <td>Non-IID: Multi-Krum</td>\n",
       "      <td>100</td>\n",
       "      <td>0.2</td>\n",
       "      <td>200</td>\n",
       "      <td>2</td>\n",
       "      <td>0.02</td>\n",
       "      <td>42</td>\n",
       "      <td>320</td>\n",
       "      <td>43.89</td>\n",
       "    </tr>\n",
       "    <tr>\n",
       "      <th>8</th>\n",
       "      <td>9</td>\n",
       "      <td>Non-IID: Multi-Krum</td>\n",
       "      <td>100</td>\n",
       "      <td>0.2</td>\n",
       "      <td>200</td>\n",
       "      <td>2</td>\n",
       "      <td>0.02</td>\n",
       "      <td>42</td>\n",
       "      <td>360</td>\n",
       "      <td>46.72</td>\n",
       "    </tr>\n",
       "    <tr>\n",
       "      <th>9</th>\n",
       "      <td>10</td>\n",
       "      <td>Non-IID: Multi-Krum</td>\n",
       "      <td>100</td>\n",
       "      <td>0.2</td>\n",
       "      <td>200</td>\n",
       "      <td>2</td>\n",
       "      <td>0.02</td>\n",
       "      <td>42</td>\n",
       "      <td>400</td>\n",
       "      <td>43.41</td>\n",
       "    </tr>\n",
       "  </tbody>\n",
       "</table>\n",
       "</div>"
      ],
      "text/plain": [
       "   Round            Algorithm    N    C    B  E     η  Seed  Message count  \\\n",
       "0      1  Non-IID: Multi-Krum  100  0.2  200  2  0.02    42             40   \n",
       "1      2  Non-IID: Multi-Krum  100  0.2  200  2  0.02    42             80   \n",
       "2      3  Non-IID: Multi-Krum  100  0.2  200  2  0.02    42            120   \n",
       "3      4  Non-IID: Multi-Krum  100  0.2  200  2  0.02    42            160   \n",
       "4      5  Non-IID: Multi-Krum  100  0.2  200  2  0.02    42            200   \n",
       "5      6  Non-IID: Multi-Krum  100  0.2  200  2  0.02    42            240   \n",
       "6      7  Non-IID: Multi-Krum  100  0.2  200  2  0.02    42            280   \n",
       "7      8  Non-IID: Multi-Krum  100  0.2  200  2  0.02    42            320   \n",
       "8      9  Non-IID: Multi-Krum  100  0.2  200  2  0.02    42            360   \n",
       "9     10  Non-IID: Multi-Krum  100  0.2  200  2  0.02    42            400   \n",
       "\n",
       "   Test accuracy  \n",
       "0           9.79  \n",
       "1          10.10  \n",
       "2          19.72  \n",
       "3          29.92  \n",
       "4          34.58  \n",
       "5          50.98  \n",
       "6          45.04  \n",
       "7          43.89  \n",
       "8          46.72  \n",
       "9          43.41  "
      ]
     },
     "execution_count": 50,
     "metadata": {},
     "output_type": "execute_result"
    }
   ],
   "source": [
    "fedavg_server = FedAvgServerDefense(\n",
    "    0.02, 200, sample_split_non_iid, 0.2, 2, 42, \"Non-IID: Multi-Krum\", defense=multi_krum\n",
    ")\n",
    "clients = fedavg_server.clients\n",
    "# Number of clients to be made malicious with gradient reversion\n",
    "num_malicious = int(0.20 * len(clients))  # For example, 20%\n",
    "# Randomly select indices for the clients to undergo gradient inversion attack\n",
    "malicious_indices = np.random.choice(len(clients), num_malicious, replace=False)\n",
    "print(f\"The following is the malicious indices: {np.sort(malicious_indices)}\")\n",
    "# Replace the selected clients with instances of AttackerGradientInversion\n",
    "for idx in malicious_indices:\n",
    "    client_data = clients[idx].loader_train.dataset\n",
    "    lr = clients[idx].optimizer.param_groups[0][\"lr\"]\n",
    "    batch_size = clients[idx].loader_train.batch_size\n",
    "    nr_epochs = clients[idx].nr_epochs\n",
    "    clients[idx] = AttackerGradientReversion(client_data, lr, batch_size, nr_epochs)\n",
    "\n",
    "result_fedavg_multi_krum = fedavg_server.run(10)\n",
    "fedavg_df_multi_krum_non_iid = result_fedavg_multi_krum.as_df()\n",
    "fedavg_df_multi_krum_non_iid"
   ]
  },
  {
   "cell_type": "code",
   "execution_count": null,
   "metadata": {},
   "outputs": [
    {
     "name": "stdout",
     "output_type": "stream",
     "text": [
      "The following is the malicious indices: [ 2  6  7 12 16 22 25 31 38 44 49 54 57 69 83 84 85 89 91 96]\n"
     ]
    },
    {
     "name": "stderr",
     "output_type": "stream",
     "text": [
      "Rounds:   0%|          | 0/10 [00:00<?, ?it/s]"
     ]
    },
    {
     "name": "stdout",
     "output_type": "stream",
     "text": [
      "The following indices are selected in the training [17 36 45 47 61 63 68 71 73 75 83 86 89 94]\n"
     ]
    },
    {
     "name": "stderr",
     "output_type": "stream",
     "text": [
      "Rounds:  10%|█         | 1/10 [00:13<01:58, 13.12s/it]"
     ]
    },
    {
     "name": "stdout",
     "output_type": "stream",
     "text": [
      "The following indices are selected in the training [ 4  5 13 15 18 30 34 53 58 61 62 70 74 79]\n"
     ]
    },
    {
     "name": "stderr",
     "output_type": "stream",
     "text": [
      "Rounds:  20%|██        | 2/10 [00:25<01:41, 12.69s/it]"
     ]
    },
    {
     "name": "stdout",
     "output_type": "stream",
     "text": [
      "The following indices are selected in the training [ 8 13 28 36 37 40 54 68 71 75 76 79 87 97]\n"
     ]
    },
    {
     "name": "stderr",
     "output_type": "stream",
     "text": [
      "Rounds:  30%|███       | 3/10 [00:39<01:32, 13.20s/it]"
     ]
    },
    {
     "name": "stdout",
     "output_type": "stream",
     "text": [
      "The following indices are selected in the training [ 7  8 11 20 30 36 40 50 52 53 59 60 75 77]\n"
     ]
    },
    {
     "name": "stderr",
     "output_type": "stream",
     "text": [
      "Rounds:  40%|████      | 4/10 [00:51<01:17, 12.97s/it]"
     ]
    },
    {
     "name": "stdout",
     "output_type": "stream",
     "text": [
      "The following indices are selected in the training [ 2 10 15 29 35 37 41 46 65 68 70 73 87 94]\n"
     ]
    },
    {
     "name": "stderr",
     "output_type": "stream",
     "text": [
      "Rounds:  50%|█████     | 5/10 [01:05<01:05, 13.20s/it]"
     ]
    },
    {
     "name": "stdout",
     "output_type": "stream",
     "text": [
      "The following indices are selected in the training [ 7  9 24 28 41 43 62 70 73 77 81 90 93 99]\n"
     ]
    },
    {
     "name": "stderr",
     "output_type": "stream",
     "text": [
      "Rounds:  60%|██████    | 6/10 [01:20<00:55, 13.93s/it]"
     ]
    },
    {
     "name": "stdout",
     "output_type": "stream",
     "text": [
      "The following indices are selected in the training [ 8 12 17 18 26 32 36 39 48 51 53 55 70 74]\n"
     ]
    },
    {
     "name": "stderr",
     "output_type": "stream",
     "text": [
      "Rounds:  70%|███████   | 7/10 [01:37<00:44, 14.74s/it]"
     ]
    },
    {
     "name": "stdout",
     "output_type": "stream",
     "text": [
      "The following indices are selected in the training [ 5 15 24 26 34 40 43 52 66 77 79 87 91 95]\n"
     ]
    },
    {
     "name": "stderr",
     "output_type": "stream",
     "text": [
      "Rounds:  80%|████████  | 8/10 [01:52<00:29, 14.76s/it]"
     ]
    },
    {
     "name": "stdout",
     "output_type": "stream",
     "text": [
      "The following indices are selected in the training [ 3  9 13 20 21 23 28 37 55 62 81 89 92 98]\n"
     ]
    },
    {
     "name": "stderr",
     "output_type": "stream",
     "text": [
      "Rounds:  90%|█████████ | 9/10 [02:08<00:15, 15.33s/it]"
     ]
    },
    {
     "name": "stdout",
     "output_type": "stream",
     "text": [
      "The following indices are selected in the training [ 3 13 20 30 33 36 45 66 76 77 81 83 90 98]\n"
     ]
    },
    {
     "name": "stderr",
     "output_type": "stream",
     "text": [
      "                                                       \r"
     ]
    },
    {
     "data": {
      "text/html": [
       "<div>\n",
       "<style scoped>\n",
       "    .dataframe tbody tr th:only-of-type {\n",
       "        vertical-align: middle;\n",
       "    }\n",
       "\n",
       "    .dataframe tbody tr th {\n",
       "        vertical-align: top;\n",
       "    }\n",
       "\n",
       "    .dataframe thead th {\n",
       "        text-align: right;\n",
       "    }\n",
       "</style>\n",
       "<table border=\"1\" class=\"dataframe\">\n",
       "  <thead>\n",
       "    <tr style=\"text-align: right;\">\n",
       "      <th></th>\n",
       "      <th>Round</th>\n",
       "      <th>Algorithm</th>\n",
       "      <th>N</th>\n",
       "      <th>C</th>\n",
       "      <th>B</th>\n",
       "      <th>E</th>\n",
       "      <th>η</th>\n",
       "      <th>Seed</th>\n",
       "      <th>Message count</th>\n",
       "      <th>Test accuracy</th>\n",
       "    </tr>\n",
       "  </thead>\n",
       "  <tbody>\n",
       "    <tr>\n",
       "      <th>0</th>\n",
       "      <td>1</td>\n",
       "      <td>IID: Multi-Krum</td>\n",
       "      <td>100</td>\n",
       "      <td>0.2</td>\n",
       "      <td>200</td>\n",
       "      <td>2</td>\n",
       "      <td>0.02</td>\n",
       "      <td>42</td>\n",
       "      <td>40</td>\n",
       "      <td>9.21</td>\n",
       "    </tr>\n",
       "    <tr>\n",
       "      <th>1</th>\n",
       "      <td>2</td>\n",
       "      <td>IID: Multi-Krum</td>\n",
       "      <td>100</td>\n",
       "      <td>0.2</td>\n",
       "      <td>200</td>\n",
       "      <td>2</td>\n",
       "      <td>0.02</td>\n",
       "      <td>42</td>\n",
       "      <td>80</td>\n",
       "      <td>22.96</td>\n",
       "    </tr>\n",
       "    <tr>\n",
       "      <th>2</th>\n",
       "      <td>3</td>\n",
       "      <td>IID: Multi-Krum</td>\n",
       "      <td>100</td>\n",
       "      <td>0.2</td>\n",
       "      <td>200</td>\n",
       "      <td>2</td>\n",
       "      <td>0.02</td>\n",
       "      <td>42</td>\n",
       "      <td>120</td>\n",
       "      <td>51.12</td>\n",
       "    </tr>\n",
       "    <tr>\n",
       "      <th>3</th>\n",
       "      <td>4</td>\n",
       "      <td>IID: Multi-Krum</td>\n",
       "      <td>100</td>\n",
       "      <td>0.2</td>\n",
       "      <td>200</td>\n",
       "      <td>2</td>\n",
       "      <td>0.02</td>\n",
       "      <td>42</td>\n",
       "      <td>160</td>\n",
       "      <td>58.70</td>\n",
       "    </tr>\n",
       "    <tr>\n",
       "      <th>4</th>\n",
       "      <td>5</td>\n",
       "      <td>IID: Multi-Krum</td>\n",
       "      <td>100</td>\n",
       "      <td>0.2</td>\n",
       "      <td>200</td>\n",
       "      <td>2</td>\n",
       "      <td>0.02</td>\n",
       "      <td>42</td>\n",
       "      <td>200</td>\n",
       "      <td>63.03</td>\n",
       "    </tr>\n",
       "    <tr>\n",
       "      <th>5</th>\n",
       "      <td>6</td>\n",
       "      <td>IID: Multi-Krum</td>\n",
       "      <td>100</td>\n",
       "      <td>0.2</td>\n",
       "      <td>200</td>\n",
       "      <td>2</td>\n",
       "      <td>0.02</td>\n",
       "      <td>42</td>\n",
       "      <td>240</td>\n",
       "      <td>69.42</td>\n",
       "    </tr>\n",
       "    <tr>\n",
       "      <th>6</th>\n",
       "      <td>7</td>\n",
       "      <td>IID: Multi-Krum</td>\n",
       "      <td>100</td>\n",
       "      <td>0.2</td>\n",
       "      <td>200</td>\n",
       "      <td>2</td>\n",
       "      <td>0.02</td>\n",
       "      <td>42</td>\n",
       "      <td>280</td>\n",
       "      <td>74.23</td>\n",
       "    </tr>\n",
       "    <tr>\n",
       "      <th>7</th>\n",
       "      <td>8</td>\n",
       "      <td>IID: Multi-Krum</td>\n",
       "      <td>100</td>\n",
       "      <td>0.2</td>\n",
       "      <td>200</td>\n",
       "      <td>2</td>\n",
       "      <td>0.02</td>\n",
       "      <td>42</td>\n",
       "      <td>320</td>\n",
       "      <td>72.68</td>\n",
       "    </tr>\n",
       "    <tr>\n",
       "      <th>8</th>\n",
       "      <td>9</td>\n",
       "      <td>IID: Multi-Krum</td>\n",
       "      <td>100</td>\n",
       "      <td>0.2</td>\n",
       "      <td>200</td>\n",
       "      <td>2</td>\n",
       "      <td>0.02</td>\n",
       "      <td>42</td>\n",
       "      <td>360</td>\n",
       "      <td>76.95</td>\n",
       "    </tr>\n",
       "    <tr>\n",
       "      <th>9</th>\n",
       "      <td>10</td>\n",
       "      <td>IID: Multi-Krum</td>\n",
       "      <td>100</td>\n",
       "      <td>0.2</td>\n",
       "      <td>200</td>\n",
       "      <td>2</td>\n",
       "      <td>0.02</td>\n",
       "      <td>42</td>\n",
       "      <td>400</td>\n",
       "      <td>80.18</td>\n",
       "    </tr>\n",
       "  </tbody>\n",
       "</table>\n",
       "</div>"
      ],
      "text/plain": [
       "   Round        Algorithm    N    C    B  E     η  Seed  Message count  \\\n",
       "0      1  IID: Multi-Krum  100  0.2  200  2  0.02    42             40   \n",
       "1      2  IID: Multi-Krum  100  0.2  200  2  0.02    42             80   \n",
       "2      3  IID: Multi-Krum  100  0.2  200  2  0.02    42            120   \n",
       "3      4  IID: Multi-Krum  100  0.2  200  2  0.02    42            160   \n",
       "4      5  IID: Multi-Krum  100  0.2  200  2  0.02    42            200   \n",
       "5      6  IID: Multi-Krum  100  0.2  200  2  0.02    42            240   \n",
       "6      7  IID: Multi-Krum  100  0.2  200  2  0.02    42            280   \n",
       "7      8  IID: Multi-Krum  100  0.2  200  2  0.02    42            320   \n",
       "8      9  IID: Multi-Krum  100  0.2  200  2  0.02    42            360   \n",
       "9     10  IID: Multi-Krum  100  0.2  200  2  0.02    42            400   \n",
       "\n",
       "   Test accuracy  \n",
       "0           9.21  \n",
       "1          22.96  \n",
       "2          51.12  \n",
       "3          58.70  \n",
       "4          63.03  \n",
       "5          69.42  \n",
       "6          74.23  \n",
       "7          72.68  \n",
       "8          76.95  \n",
       "9          80.18  "
      ]
     },
     "execution_count": 51,
     "metadata": {},
     "output_type": "execute_result"
    }
   ],
   "source": [
    "fedavg_server = FedAvgServerDefense(\n",
    "    0.02, 200, sample_split_iid, 0.2, 2, 42, \"IID: Multi-Krum\", defense=multi_krum\n",
    ")\n",
    "clients = fedavg_server.clients\n",
    "# Number of clients to be made malicious with gradient reversion\n",
    "num_malicious = int(0.20 * len(clients))  # For example, 20%\n",
    "# Randomly select indices for the clients to undergo gradient inversion attack\n",
    "malicious_indices = np.random.choice(len(clients), num_malicious, replace=False)\n",
    "print(f\"The following is the malicious indices: {np.sort(malicious_indices)}\")\n",
    "# Replace the selected clients with instances of AttackerGradientInversion\n",
    "for idx in malicious_indices:\n",
    "    client_data = clients[idx].loader_train.dataset\n",
    "    lr = clients[idx].optimizer.param_groups[0][\"lr\"]\n",
    "    batch_size = clients[idx].loader_train.batch_size\n",
    "    nr_epochs = clients[idx].nr_epochs\n",
    "    clients[idx] = AttackerGradientReversion(client_data, lr, batch_size, nr_epochs)\n",
    "\n",
    "result_fedavg_multi_krum = fedavg_server.run(10)\n",
    "fedavg_df_multi_krum_iid = result_fedavg_multi_krum.as_df()\n",
    "fedavg_df_multi_krum_iid"
   ]
  },
  {
   "cell_type": "markdown",
   "metadata": {},
   "source": [
    "### Run with Majority Sign"
   ]
  },
  {
   "cell_type": "code",
   "execution_count": null,
   "metadata": {},
   "outputs": [
    {
     "name": "stdout",
     "output_type": "stream",
     "text": [
      "[93 82 53 56 12 91 63 61 78 31 47 26 43 40  0 60  7 96 73 79]\n"
     ]
    },
    {
     "name": "stderr",
     "output_type": "stream",
     "text": [
      "Rounds:  40%|████      | 4/10 [00:42<01:03, 10.54s/it]"
     ]
    },
    {
     "ename": "",
     "evalue": "",
     "output_type": "error",
     "traceback": [
      "\u001b[1;31mThe Kernel crashed while executing code in the current cell or a previous cell. \n",
      "\u001b[1;31mPlease review the code in the cell(s) to identify a possible cause of the failure. \n",
      "\u001b[1;31mClick <a href='https://aka.ms/vscodeJupyterKernelCrash'>here</a> for more info. \n",
      "\u001b[1;31mView Jupyter <a href='command:jupyter.viewOutput'>log</a> for further details."
     ]
    }
   ],
   "source": [
    "fedavg_server = FedAvgServerDefenseCoordinate(\n",
    "    0.02, 200, sample_split_non_iid, 0.2, 2, 42, \"Non-IID: Majority Sign\", defense=majority_sign_filter\n",
    ")\n",
    "clients = fedavg_server.clients\n",
    "# Number of clients to be made malicious with gradient reversion\n",
    "num_malicious = int(0.20 * len(clients))  # For example, 20%\n",
    "# Randomly select indices for the clients to undergo gradient inversion attack\n",
    "malicious_indices = np.random.choice(len(clients), num_malicious, replace=False)\n",
    "print(malicious_indices)\n",
    "# Replace the selected clients with instances of AttackerGradientInversion\n",
    "for idx in malicious_indices:\n",
    "    client_data = clients[idx].loader_train.dataset\n",
    "    lr = clients[idx].optimizer.param_groups[0][\"lr\"]\n",
    "    batch_size = clients[idx].loader_train.batch_size\n",
    "    nr_epochs = clients[idx].nr_epochs\n",
    "    clients[idx] = AttackerGradientReversion(client_data, lr, batch_size, nr_epochs)\n",
    "\n",
    "result_fedavg_majority_sign = fedavg_server.run(10)\n",
    "fedavg_df_majority_sign_non_iid = result_fedavg_majority_sign.as_df()\n",
    "fedavg_df_majority_sign_non_iid"
   ]
  },
  {
   "cell_type": "code",
   "execution_count": null,
   "metadata": {},
   "outputs": [],
   "source": [
    "fedavg_server = FedAvgServerDefenseCoordinate(\n",
    "    0.02, 200, sample_split_iid, 0.2, 2, 42, \"IID: Majority Sign\", defense=majority_sign_filter\n",
    ")\n",
    "clients = fedavg_server.clients\n",
    "# Number of clients to be made malicious with gradient reversion\n",
    "num_malicious = int(0.20 * len(clients))  # For example, 20%\n",
    "# Randomly select indices for the clients to undergo gradient inversion attack\n",
    "malicious_indices = np.random.choice(len(clients), num_malicious, replace=False)\n",
    "print(malicious_indices)\n",
    "# Replace the selected clients with instances of AttackerGradientInversion\n",
    "for idx in malicious_indices:\n",
    "    client_data = clients[idx].loader_train.dataset\n",
    "    lr = clients[idx].optimizer.param_groups[0][\"lr\"]\n",
    "    batch_size = clients[idx].loader_train.batch_size\n",
    "    nr_epochs = clients[idx].nr_epochs\n",
    "    clients[idx] = AttackerGradientReversion(client_data, lr, batch_size, nr_epochs)\n",
    "\n",
    "result_fedavg_majority_sign = fedavg_server.run(10)\n",
    "fedavg_df_majority_sign_iid = result_fedavg_majority_sign.as_df()\n",
    "fedavg_df_majority_sign_iid"
   ]
  },
  {
   "cell_type": "markdown",
   "metadata": {},
   "source": [
    "### Plot graph"
   ]
  },
  {
   "cell_type": "code",
   "execution_count": null,
   "metadata": {},
   "outputs": [
    {
     "data": {
      "image/png": "[encoded data removed]",
      "text/plain": [
       "<Figure size 640x480 with 1 Axes>"
      ]
     },
     "metadata": {},
     "output_type": "display_data"
    }
   ],
   "source": [
    "df = pd.concat(\n",
    "    [\n",
    "        fedavg_df_reverse_non_iid,\n",
    "        fedavg_df_krum_non_iid,\n",
    "        fedavg_df_multi_krum_non_iid,\n",
    "        fedavg_df_majority_sign_non_iid,\n",
    "        fedavg_df_reverse_iid,\n",
    "        fedavg_df_krum_iid,\n",
    "        fedavg_df_multi_krum_iid,\n",
    "        fedavg_df_majority_sign_iid,\n",
    "    ],\n",
    "    ignore_index=True,\n",
    ")\n",
    "ax = sns.lineplot(df, x=\"Round\", y=\"Test accuracy\", hue=\"Algorithm\", seed=0)\n",
    "_ = ax.set_xticks(df[\"Round\"].unique())"
   ]
  },
  {
   "cell_type": "markdown",
   "metadata": {},
   "source": [
    "TODO"
   ]
  },
  {
   "cell_type": "markdown",
   "metadata": {},
   "source": [
    "## Question 2: Implementing Bulyan Defense (5 points)\n",
    "\n",
    "[Bulyan defense](https://arxiv.org/abs/1802.07927) combines aspects of `multi-krum` and `trimmed-mean` to protect against sophisticated attacks in federated environments. In this question, you will implement Bulyan by modifying and combining the existing code in the [lab-attacks.ipynb](https://github.com/lydiaYchen/DDL24Spring/blob/main/lab/lab-attacks.ipynb).\n",
    "\n",
    "### Scoring:\n",
    "- _(1 point)_ Modify the server-side code to integrate a two-step defense process where:\n",
    "  1. A client-wise defense like `multi-krum` filters out suspicious gradients based on their distance metrics.\n",
    "  2. A coordinate-wise defense like `trimmed-mean` calculates the mean across the remaining gradients after trimming the extremes.\n",
    "  \n",
    "- _(1 point)_ Successfully integrate these two defense mechanisms [`multi-krum`, `trimmed-mean`] to implement the Bulyan.\n",
    "- _(3 points)_ Evaluate the performance of your implemented Bulyan defense against three types of attacks: `AttackerGradientReversion`, `AttackerPartGradientReversion`, and `AttackerBackdoor`. Vary the defense hyperparameters to make your defense defend against these attacks while keeping the data distribution i.i.d. and the attacker's hyperparameters constant as per the template. Document the performance of your defense strategy against these attacks in your notebook."
   ]
  },
  {
   "cell_type": "code",
   "execution_count": null,
   "metadata": {},
   "outputs": [],
   "source": [
    "def tr_mean(all_updates, beta=0.4):\n",
    "    # 'n_attackers' is the number of top and bottom values to exclude from the mean calculation.\n",
    "\n",
    "    # Transpose the list to group gradients of the same parameter together\n",
    "    parameter_wise_updates = list(zip(*all_updates))\n",
    "    n_attackers = int(20 * beta)\n",
    "    trimmed_mean_gradients = []\n",
    "    for parameter_group in parameter_wise_updates:\n",
    "        # Stack gradients to create a new dimension corresponding to clients\n",
    "        stacked_updates = torch.stack(parameter_group, dim=0)\n",
    "\n",
    "        # Sort updates along the client dimension\n",
    "        sorted_updates = torch.sort(stacked_updates, dim=0)[0]\n",
    "        # Compute mean excluding the top and bottom 'n_attackers' updates\n",
    "        if n_attackers > 0:\n",
    "            trimmed_updates = sorted_updates[n_attackers:-n_attackers]\n",
    "        else:\n",
    "            trimmed_updates = sorted_updates\n",
    "\n",
    "        mean_gradient = torch.mean(trimmed_updates, dim=0)\n",
    "        trimmed_mean_gradients.append(mean_gradient * 20)\n",
    "\n",
    "    return trimmed_mean_gradients"
   ]
  },
  {
   "cell_type": "code",
   "execution_count": null,
   "metadata": {},
   "outputs": [],
   "source": []
  },
  {
   "attachments": {
    "40764930-c1b4-4b6c-84d2-cc6f43c6b402.png": {
     "image/png": "[encoded data removed]"
    }
   },
   "cell_type": "markdown",
   "metadata": {},
   "source": [
    "## Question 3: Implementing SparseFed Defense (7 points)\n",
    "\n",
    "In this exercise, you will implement the [SparseFed Defense](https://arxiv.org/abs/2112.06274). SparseFed Defense involves two main steps for each participating device during the training process:\n",
    "1. **Clipping the gradient:** Each device clips its gradient to reduce the impact of potentially malicious updates.\n",
    "2. **Aggregating top-k updates:** During the aggregation phase, only the gradients with the highest magnitudes (top-k) are considered. This method is designed to minimize the risk of model poisoning by excluding anomalous gradient contributions from potentially compromised devices.\n",
    "\n",
    "### Scoring:\n",
    "- _(2 points)_ Implement a simplified version of SparseFed based on the clipping code provided in the template notebook. Unlike the original algorithm which includes momentum, you only need to implement the clipping step and the sparsification step. However, ensure that only the top-k coordinates in the aggregated gradients are selected based on their magnitudes. For example, if the aggregated gradient is `[3, -1, -1, -3]`, selecting the top-2 by magnitude should result in `[3, 0, 0, -3]`.\n",
    "\n",
    "- _(3 points)_ Evaluate the performance of your implemented SparseFed defense against two types of attacks: `AttackerGradientReversion` and `AttackerBackdoor`. Adjust the values of the defense hyperparameter k to optimize defense effectiveness. Ensure the data distribution remains i.i.d., and the attacker's hyperparameters are unchanged from the template. Document and compare the performance of SparseFed to the simple clipping defense across these attack scenarios. Suggested values for k include percentages of the total parameters, such as 20%, 50%, and 80%.\n",
    "\n",
    "- _(2 points)_ Analyze and discuss the results to determine if SparseFed provided any improvements. Explain why the sparsefication either succeeded or failed in enhancing the model's robustness against the specified attacks. Include this analysis in your notebook.\n",
    "\n",
    "\n",
    "![image.png](attachment:40764930-c1b4-4b6c-84d2-cc6f43c6b402.png)\n"
   ]
  },
  {
   "cell_type": "code",
   "execution_count": null,
   "metadata": {},
   "outputs": [],
   "source": []
  },
  {
   "cell_type": "markdown",
   "metadata": {},
   "source": [
    "### For any questions regarding this assignment, send an email to c.zhu-2@tudelft.nl"
   ]
  }
 ],
 "metadata": {
  "kernelspec": {
   "display_name": "Python 3 (ipykernel)",
   "language": "python",
   "name": "python3"
  },
  "language_info": {
   "codemirror_mode": {
    "name": "ipython",
    "version": 3
   },
   "file_extension": ".py",
   "mimetype": "text/x-python",
   "name": "python",
   "nbconvert_exporter": "python",
   "pygments_lexer": "ipython3",
   "version": "3.10.12"
  }
 },
 "nbformat": 4,
 "nbformat_minor": 4
}
